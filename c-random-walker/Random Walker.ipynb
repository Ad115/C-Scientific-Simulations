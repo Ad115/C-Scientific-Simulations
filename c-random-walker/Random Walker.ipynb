{
 "cells": [
  {
   "cell_type": "markdown",
   "metadata": {},
   "source": [
    "A simulation of random walker particles in C that displays in the browser.\n",
    "\n",
    "![20 Random Walkers](randomwalker.png)\n",
    "        \n",
    "\n",
    "## Usage\n",
    "\n",
    "**TL;DR**: Just type:\n",
    "\n",
    "        `make randomwalker; ./randomwalker 100 10000 | ./server.py` \n",
    "        \n",
    "and open the file `index.html` in a browser.\n",
    "\n",
    "---\n",
    "\n",
    "## Extended usage\n",
    "\n",
    "**NOTE**: This is for UNIX machines.\n",
    "\n",
    "To see the simulation, first compile with make:\n",
    "\n",
    "        make randomwalker\n",
    "        \n",
    "        \n",
    "Then, simulate, and save the output with:\n",
    "\n",
    "        ./randomwalker N_PARTICLES N_STEPS > simulation.dat\n",
    "        \n",
    "        \n",
    "The output must be served via web with:\n",
    "\n",
    "        python3 ./server.py < simulation.dat\n",
    "        \n",
    "        \n",
    "        \n",
    "Finally, open the `index.html` file in a browser.\n"
   ]
  },
  {
   "cell_type": "code",
   "execution_count": null,
   "metadata": {},
   "outputs": [],
   "source": []
  }
 ],
 "metadata": {
  "kernelspec": {
   "display_name": "Python 3",
   "language": "python",
   "name": "python3"
  },
  "language_info": {
   "codemirror_mode": {
    "name": "ipython",
    "version": 3
   },
   "file_extension": ".py",
   "mimetype": "text/x-python",
   "name": "python",
   "nbconvert_exporter": "python",
   "pygments_lexer": "ipython3",
   "version": "3.6.1"
  }
 },
 "nbformat": 4,
 "nbformat_minor": 2
}
